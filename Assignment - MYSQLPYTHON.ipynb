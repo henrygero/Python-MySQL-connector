{
 "cells": [
  {
   "cell_type": "code",
   "execution_count": 1,
   "metadata": {},
   "outputs": [],
   "source": [
    "import mysql.connector\n",
    "from mysql.connector import Error\n",
    "import pandas as pd\n"
   ]
  },
  {
   "cell_type": "code",
   "execution_count": 4,
   "metadata": {},
   "outputs": [
    {
     "name": "stdout",
     "output_type": "stream",
     "text": [
      "MySQL Database connection successful\n"
     ]
    }
   ],
   "source": [
    "def create_server_connection(host_name, user_name, user_password):\n",
    "    connection = None\n",
    "    try:\n",
    "       connection = mysql.connector.connect(\n",
    "           host=host_name,\n",
    "           user=user_name,\n",
    "           passwd=user_password\n",
    "       )\n",
    "       print(\"MySQL Database connection successful\")\n",
    "    except Error as err:\n",
    "        print(f\"Error: '{err}'\")\n",
    "    return connection\n",
    "pw = \"blackmoon9\" \n",
    "db = \"python_db\" # This is the name of the database\n",
    "connection = create_server_connection(\"localhost\", \"root\", pw)"
   ]
  },
  {
   "cell_type": "code",
   "execution_count": 3,
   "metadata": {
    "collapsed": true
   },
   "outputs": [
    {
     "name": "stdout",
     "output_type": "stream",
     "text": [
      "Error: '1007 (HY000): Can't create database 'python_db'; database exists'\n"
     ]
    }
   ],
   "source": [
    "def create_database(connection, query):\n",
    "    cursor = connection.cursor()\n",
    "    try:\n",
    "        cursor.execute(query)\n",
    "        print(\"Database created successfully\")\n",
    "    except Error as err:\n",
    "        print(f\"Error: '{err}'\")\n",
    "create_database_query = \"CREATE DATABASE python_db\"\n",
    "create_database(connection, create_database_query)"
   ]
  },
  {
   "cell_type": "code",
   "execution_count": 8,
   "metadata": {},
   "outputs": [],
   "source": [
    "cursor = connection.cursor()\n"
   ]
  },
  {
   "cell_type": "code",
   "execution_count": 9,
   "metadata": {},
   "outputs": [],
   "source": [
    "cursor.execute(\"SELECT VERSION()\")"
   ]
  },
  {
   "cell_type": "code",
   "execution_count": 11,
   "metadata": {},
   "outputs": [
    {
     "name": "stdout",
     "output_type": "stream",
     "text": [
      "Database version : 5.7.34-log \n"
     ]
    }
   ],
   "source": [
    "data = cursor.fetchone()\n",
    "print (\"Database version : %s \" % data)"
   ]
  },
  {
   "cell_type": "code",
   "execution_count": 26,
   "metadata": {},
   "outputs": [],
   "source": [
    "def get_connection():\n",
    "    connection = mysql.connector.connect(host='localhost',\n",
    "                                         database='python_db',\n",
    "                                         user='root',\n",
    "                                         password='blackmoon9')\n",
    "    return connection\n"
   ]
  },
  {
   "cell_type": "code",
   "execution_count": 36,
   "metadata": {
    "scrolled": true
   },
   "outputs": [],
   "source": [
    "def get_hospital(hospital_id):\n",
    "    try:\n",
    "        connection = get_connection()\n",
    "        cursor = connection.cursor()\n",
    "        select_query = \"\"\"select * from Hospital where Hospital_Id = %s\"\"\"\n",
    "        cursor.execute(select_query, (hospital_id,))\n",
    "        records = cursor.fetchall()\n",
    "        print(\"Printing Hospital record\")\n",
    "        for row in records:\n",
    "            print(\"Hospital Id:\", row[0], )\n",
    "            print(\"Hospital Name:\", row[1])\n",
    "            print(\"Bed Count:\", row[2])\n",
    "        close_connection(connection)\n",
    "    except (Exception, mysql.connector.Error) as error:\n",
    "        print(\"Error while getting data\", error)"
   ]
  },
  {
   "cell_type": "code",
   "execution_count": 37,
   "metadata": {},
   "outputs": [],
   "source": [
    "def get_doctor(doctor_id):\n",
    "    try:\n",
    "        connection = get_connection()\n",
    "        cursor = connection.cursor()\n",
    "        select_query = \"\"\"select * from Doctor where Doctor_Id = %s\"\"\"\n",
    "        cursor.execute(select_query, (doctor_id,))\n",
    "        records = cursor.fetchall()\n",
    "        print(\"Printing Doctor record\")\n",
    "        for row in records:\n",
    "            print(\"Doctor Id:\", row[0])\n",
    "            print(\"Doctor Name:\", row[1])\n",
    "            print(\"Hospital Id:\", row[2])\n",
    "            print(\"Joining Date:\", row[3])\n",
    "            print(\"Specialty:\", row[4])\n",
    "            print(\"Salary:\", row[5])\n",
    "            print(\"Experience:\", row[6])\n",
    "        close_connection(connection)\n",
    "    except (Exception, mysql.connector.Error) as error:\n",
    "        print(\"Error while getting data\", error)"
   ]
  },
  {
   "cell_type": "code",
   "execution_count": 29,
   "metadata": {},
   "outputs": [
    {
     "name": "stdout",
     "output_type": "stream",
     "text": [
      "Question 2: Read given hospital and doctor details \n",
      "\n",
      "Printing Hospital record\n",
      "Hospital Id: 2\n",
      "Hospital Name: Cleveland Clinic\n",
      "Bed Count: 400\n",
      "\n",
      "\n",
      "Printing Doctor record\n",
      "Doctor Id: 105\n",
      "Doctor Name: Linda\n",
      "Hospital Id: 3\n",
      "Joining Date: 2004-06-04\n",
      "Specialty: Garnacologist\n",
      "Salary: 42000\n",
      "Experience: None\n"
     ]
    }
   ],
   "source": [
    "#printing Output\n",
    "print(\"Question 2: Read given hospital and doctor details \\n\")\n",
    "get_hospital_detail(2)\n",
    "print(\"\\n\")\n",
    "get_doctor_detail(105)"
   ]
  },
  {
   "cell_type": "code",
   "execution_count": 30,
   "metadata": {},
   "outputs": [],
   "source": [
    "def get_specialist_doctors_list(speciality, salary):\n",
    "    try:\n",
    "        connection = get_connection()\n",
    "        cursor = connection.cursor()\n",
    "        sql_select_query = \"\"\"select * from Doctor where Speciality=%s and Salary > %s\"\"\"\n",
    "        cursor.execute(sql_select_query, (speciality, salary))\n",
    "        records = cursor.fetchall()\n",
    "        print(\"Printing doctors whose specialty is\", speciality, \"and salary greater than\", salary, \"\\n\")\n",
    "        for row in records:\n",
    "            print(\"Doctor Id: \", row[0])\n",
    "            print(\"Doctor Name:\", row[1])\n",
    "            print(\"Hospital Id:\", row[2])\n",
    "            print(\"Joining Date:\", row[3])\n",
    "            print(\"Specialty:\", row[4])\n",
    "            print(\"Salary:\", row[5])\n",
    "            print(\"Experience:\", row[6], \"\\n\")\n",
    "        close_connection(connection)\n",
    "    except (Exception, mysql.connector.Error) as error:\n",
    "        print(\"Error while getting data\", error)\n"
   ]
  },
  {
   "cell_type": "code",
   "execution_count": 31,
   "metadata": {},
   "outputs": [
    {
     "name": "stdout",
     "output_type": "stream",
     "text": [
      "Question 3: Get Doctors as per given Speciality\n",
      "\n",
      "Printing doctors whose specialty is Garnacologist and salary greater than 30000 \n",
      "\n",
      "Doctor Id:  105\n",
      "Doctor Name: Linda\n",
      "Hospital Id: 3\n",
      "Joining Date: 2004-06-04\n",
      "Specialty: Garnacologist\n",
      "Salary: 42000\n",
      "Experience: None \n",
      "\n",
      "Doctor Id:  107\n",
      "Doctor Name: Richard\n",
      "Hospital Id: 4\n",
      "Joining Date: 2014-08-21\n",
      "Specialty: Garnacologist\n",
      "Salary: 32000\n",
      "Experience: None \n",
      "\n"
     ]
    }
   ],
   "source": [
    "print(\"Question 3: Get Doctors as per given Speciality\\n\")\n",
    "get_specialist_doctors_list(\"Garnacologist\", 30000)"
   ]
  },
  {
   "cell_type": "code",
   "execution_count": 33,
   "metadata": {},
   "outputs": [],
   "source": [
    "\n",
    "def get_hospital_name(hospital_id):\n",
    "    # Fetch Hospital Name using Hospital id\n",
    "    try:\n",
    "        connection = get_connection()\n",
    "        cursor = connection.cursor()\n",
    "        select_query = \"\"\"select * from Hospital where Hospital_Id = %s\"\"\"\n",
    "        cursor.execute(select_query, (hospital_id,))\n",
    "        record = cursor.fetchone()\n",
    "        close_connection(connection)\n",
    "        return record[1]\n",
    "    except (Exception, mysql.connector.Error) as error:\n",
    "        print(\"Error while getting data\", error)"
   ]
  },
  {
   "cell_type": "code",
   "execution_count": 34,
   "metadata": {},
   "outputs": [],
   "source": [
    "def get_doctors(hospital_id):\n",
    "    # Fetch Hospital Name using Hospital id\n",
    "    try:\n",
    "        hospital_name = get_hospital_name(hospital_id)\n",
    "        connection = get_connection()\n",
    "        cursor = connection.cursor()\n",
    "        sql_select_query = \"\"\"select * from Doctor where Hospital_Id = %s\"\"\"\n",
    "        cursor.execute(sql_select_query, (hospital_id,))\n",
    "        records = cursor.fetchall()\n",
    "\n",
    "        print(\"Printing Doctors of \", hospital_name, \"Hospital\")\n",
    "        for row in records:\n",
    "            print(\"Doctor Id:\", row[0])\n",
    "            print(\"Doctor Name:\", row[1])\n",
    "            print(\"Hospital Id:\", row[2])\n",
    "            print(\"Hospital Name:\", hospital_name)\n",
    "            print(\"Joining Date:\", row[3])\n",
    "            print(\"Specialty:\", row[4])\n",
    "            print(\"Salary:\", row[5])\n",
    "            print(\"Experience:\", row[6], \"\\n\")\n",
    "        close_connection(connection)\n",
    "    except (Exception, mysql.connector.Error) as error:\n",
    "        print(\"Error while getting doctor's data\", error)\n"
   ]
  },
  {
   "cell_type": "code",
   "execution_count": 35,
   "metadata": {},
   "outputs": [
    {
     "name": "stdout",
     "output_type": "stream",
     "text": [
      "Question 4:  Get List of doctors of a given Hospital Id\n",
      "\n",
      "Printing Doctors of  Cleveland Clinic Hospital\n",
      "Doctor Id: 103\n",
      "Doctor Name: Susan\n",
      "Hospital Id: 2\n",
      "Hospital Name: Cleveland Clinic\n",
      "Joining Date: 2016-05-19\n",
      "Specialty: Garnacologist\n",
      "Salary: 25000\n",
      "Experience: None \n",
      "\n",
      "Doctor Id: 104\n",
      "Doctor Name: Robert\n",
      "Hospital Id: 2\n",
      "Hospital Name: Cleveland Clinic\n",
      "Joining Date: 2017-12-28\n",
      "Specialty: Pediatric \n",
      "Salary: 28000\n",
      "Experience: None \n",
      "\n"
     ]
    }
   ],
   "source": [
    "print(\"Question 4:  Get List of doctors of a given Hospital Id\\n\")\n",
    "get_doctors(2)\n"
   ]
  },
  {
   "cell_type": "code",
   "execution_count": null,
   "metadata": {},
   "outputs": [],
   "source": []
  }
 ],
 "metadata": {
  "kernelspec": {
   "display_name": "Python 3",
   "language": "python",
   "name": "python3"
  },
  "language_info": {
   "codemirror_mode": {
    "name": "ipython",
    "version": 3
   },
   "file_extension": ".py",
   "mimetype": "text/x-python",
   "name": "python",
   "nbconvert_exporter": "python",
   "pygments_lexer": "ipython3",
   "version": "3.8.5"
  }
 },
 "nbformat": 4,
 "nbformat_minor": 4
}
