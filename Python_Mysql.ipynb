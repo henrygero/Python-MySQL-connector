{
 "cells": [
  {
   "cell_type": "code",
   "execution_count": 3,
   "metadata": {},
   "outputs": [],
   "source": [
    "import mysql.connector as mysql\n",
    "from mysql.connector import Error\n",
    "import pandas as pd\n"
   ]
  },
  {
   "cell_type": "code",
   "execution_count": 5,
   "metadata": {},
   "outputs": [
    {
     "name": "stdout",
     "output_type": "stream",
     "text": [
      "<mysql.connector.connection.MySQLConnection object at 0x0000014F39C40850>\n"
     ]
    }
   ],
   "source": [
    "db = mysql.connect(\n",
    "     host = \"localhost\",\n",
    "     user = \"root\",\n",
    "     passwd = \"blackmoon9\"\n",
    ")\n",
    "print(db)"
   ]
  },
  {
   "cell_type": "code",
   "execution_count": 8,
   "metadata": {},
   "outputs": [],
   "source": [
    "import mysql.connector as mysql\n",
    "db = mysql.connect(\n",
    "     host = \"localhost\",\n",
    "     user = \"root\",\n",
    "     passwd = \"blackmoon9\"\n",
    ")\n",
    "## creating an instance of 'cursor' class which is used to\n",
    "cursor = db.cursor()\n",
    "## creating a databse called 'datacamp'\n",
    "## 'execute()' method is used to compile a 'SQL' statement\n",
    "## below statement is used to create tha 'datacamp' database\n",
    "cursor.execute(\"CREATE DATABASE GhanaTech\")\n"
   ]
  },
  {
   "cell_type": "code",
   "execution_count": 10,
   "metadata": {},
   "outputs": [
    {
     "name": "stdout",
     "output_type": "stream",
     "text": [
      "[('information_schema',), ('ghanatech',), ('hotel',), ('mydb',), ('myflixdb',), ('mysql',), ('new_sql',), ('performance_schema',), ('python_db',), ('school',), ('sys',)]\n",
      "('information_schema',)\n",
      "('ghanatech',)\n",
      "('hotel',)\n",
      "('mydb',)\n",
      "('myflixdb',)\n",
      "('mysql',)\n",
      "('new_sql',)\n",
      "('performance_schema',)\n",
      "('python_db',)\n",
      "('school',)\n",
      "('sys',)\n"
     ]
    }
   ],
   "source": [
    "import mysql.connector as mysql\n",
    "db = mysql.connect(\n",
    "     host = \"localhost\",\n",
    "     user = \"root\",\n",
    "     passwd = \"blackmoon9\"\n",
    ")\n",
    "cursor = db.cursor()\n",
    "## executing the statement using 'execute()' method\n",
    "cursor.execute(\"SHOW DATABASES\")\n",
    "## 'fetchall()' method fetches all the rows from the last\n",
    "databases = cursor.fetchall() ## it returns a list of all\n",
    "## printing the list of databases\n",
    "print(databases)\n",
    "## showing one by one database\n",
    "for database in databases:\n",
    "    print(database)\n"
   ]
  },
  {
   "cell_type": "code",
   "execution_count": 12,
   "metadata": {},
   "outputs": [],
   "source": [
    "import mysql.connector as mysql\n",
    "db = mysql.connect(\n",
    "     host = \"localhost\",\n",
    "     user = \"root\",\n",
    "     passwd = \"blackmoon9\",\n",
    "     database = \"GhanaTech\"\n",
    ")"
   ]
  },
  {
   "cell_type": "code",
   "execution_count": 16,
   "metadata": {},
   "outputs": [],
   "source": [
    "cursor = db.cursor()\n",
    "## creating a table called 'users' in the 'GhanaTech' database\n",
    "cursor.execute(\"CREATE TABLE users (name VARCHAR(255), user_name VARCHAR(255))\")\n"
   ]
  },
  {
   "cell_type": "code",
   "execution_count": 18,
   "metadata": {},
   "outputs": [
    {
     "name": "stdout",
     "output_type": "stream",
     "text": [
      "('users',)\n"
     ]
    }
   ],
   "source": [
    "cursor = db.cursor()\n",
    "## getting all the tables which are present in 'GhanaTech' database\n",
    "cursor.execute(\"SHOW TABLES\")\n",
    "\n",
    "tables = cursor.fetchall() ## it returns list of tables present in the database\n",
    "\n",
    "## showing all the tables one by one\n",
    "for table in tables:\n",
    "    print(table)"
   ]
  },
  {
   "cell_type": "markdown",
   "metadata": {},
   "source": [
    "## Primary Key"
   ]
  },
  {
   "cell_type": "code",
   "execution_count": 20,
   "metadata": {},
   "outputs": [],
   "source": [
    "cursor = db.cursor()\n",
    "## first we have to 'drop' the table which has already created to create it again with the 'PRIMARY KEY'\n",
    "## 'DROP TABLE table_name' statement will drop the table from a database\n",
    "cursor.execute(\"DROP TABLE users\")\n",
    "## creating the 'users' table again with the 'PRIMARY KEY'\n",
    "cursor.execute(\"CREATE TABLE users (id INT(11) NOT NULL AUTO_INCREMENT PRIMARY KEY, name VARCHAR(255), user_name VARCHAR(255))\")"
   ]
  },
  {
   "cell_type": "code",
   "execution_count": 21,
   "metadata": {},
   "outputs": [
    {
     "name": "stdout",
     "output_type": "stream",
     "text": [
      "[('id', 'int(11)', 'NO', 'PRI', None, 'auto_increment'), ('name', 'varchar(255)', 'YES', '', None, ''), ('user_name', 'varchar(255)', 'YES', '', None, '')]\n"
     ]
    }
   ],
   "source": [
    "cursor = db.cursor()\n",
    "## 'DESC table_name' is used to get all columns information\n",
    "cursor.execute(\"DESC users\")\n",
    "\n",
    "## it will print all the columns as 'tuples' in a list\n",
    "print(cursor.fetchall())"
   ]
  },
  {
   "cell_type": "markdown",
   "metadata": {},
   "source": [
    "##Droping Primary Key"
   ]
  },
  {
   "cell_type": "code",
   "execution_count": 25,
   "metadata": {},
   "outputs": [
    {
     "name": "stdout",
     "output_type": "stream",
     "text": [
      "[('name', 'varchar(255)', 'YES', '', None, ''), ('user_name', 'varchar(255)', 'YES', '', None, '')]\n"
     ]
    }
   ],
   "source": [
    "cursor = db.cursor()\n",
    "## dropping the 'id' column\n",
    "cursor.execute(\"ALTER TABLE users DROP id\")\n",
    "cursor.execute(\"DESC users\")\n",
    "print(cursor.fetchall())"
   ]
  },
  {
   "cell_type": "markdown",
   "metadata": {},
   "source": [
    "##Adding Promary Key"
   ]
  },
  {
   "cell_type": "code",
   "execution_count": 27,
   "metadata": {},
   "outputs": [
    {
     "name": "stdout",
     "output_type": "stream",
     "text": [
      "[('id', 'int(11)', 'NO', 'PRI', None, 'auto_increment'), ('name', 'varchar(255)', 'YES', '', None, ''), ('user_name', 'varchar(255)', 'YES', '', None, '')]\n"
     ]
    }
   ],
   "source": [
    "cursor = db.cursor()\n",
    "## adding 'id' column to the 'users' table\n",
    "## 'FIRST' keyword in the statement will add a column in the starting of the table\n",
    "cursor.execute(\"ALTER TABLE users ADD COLUMN id INT(11) NOT NULL AUTO_INCREMENT PRIMARY KEY FIRST\")\n",
    "cursor.execute(\"DESC users\")\n",
    "print(cursor.fetchall())"
   ]
  },
  {
   "cell_type": "markdown",
   "metadata": {},
   "source": [
    "#Inserting Data"
   ]
  },
  {
   "cell_type": "code",
   "execution_count": 29,
   "metadata": {},
   "outputs": [
    {
     "name": "stdout",
     "output_type": "stream",
     "text": [
      "1 record inserted\n"
     ]
    }
   ],
   "source": [
    "cursor = db.cursor()\n",
    "## defining the Query\n",
    "query = \"INSERT INTO users (name, user_name) VALUES (%s, %s)\"\n",
    "## storing values in a variable\n",
    "values = (\"Hafeez\", \"hafeez\")\n",
    "## executing the query with values\n",
    "cursor.execute(query, values)\n",
    "## to make final output we have to run the 'commit()' method of the database object\n",
    "db.commit()\n",
    "print(cursor.rowcount, \"record inserted\")"
   ]
  },
  {
   "cell_type": "markdown",
   "metadata": {},
   "source": [
    "# Inserting Multiple Rows"
   ]
  },
  {
   "cell_type": "code",
   "execution_count": 31,
   "metadata": {},
   "outputs": [
    {
     "name": "stdout",
     "output_type": "stream",
     "text": [
      "4 records inserted\n"
     ]
    }
   ],
   "source": [
    "cursor = db.cursor()\n",
    "## defining the Query\n",
    "query = \"INSERT INTO users (name, user_name) VALUES (%s, %s)\"\n",
    "## storing values in a variable\n",
    "values = [\n",
    "    (\"Peter\", \"peter\"),\n",
    "    (\"Amy\", \"amy\"),\n",
    "    (\"Michael\", \"michael\"),\n",
    "    (\"Hennah\", \"hennah\")\n",
    "]\n",
    "## executing the query with values\n",
    "cursor.executemany(query, values)\n",
    "## to make final output we have to run the 'commit()' method of the database object\n",
    "db.commit()\n",
    "print(cursor.rowcount, \"records inserted\")"
   ]
  },
  {
   "cell_type": "markdown",
   "metadata": {},
   "source": [
    "#Select Data"
   ]
  },
  {
   "cell_type": "code",
   "execution_count": 32,
   "metadata": {},
   "outputs": [
    {
     "name": "stdout",
     "output_type": "stream",
     "text": [
      "[(1, 'Hafeez', 'hafeez'), (2, 'Peter', 'peter'), (3, 'Amy', 'amy'), (4, 'Michael', 'michael'), (5, 'Hennah', 'hennah')]\n",
      "[(1, 'Hafeez', 'hafeez'), (2, 'Peter', 'peter'), (3, 'Amy', 'amy'), (4, 'Michael', 'michael'), (5, 'Hennah', 'hennah')]\n",
      "[(1, 'Hafeez', 'hafeez'), (2, 'Peter', 'peter'), (3, 'Amy', 'amy'), (4, 'Michael', 'michael'), (5, 'Hennah', 'hennah')]\n",
      "[(1, 'Hafeez', 'hafeez'), (2, 'Peter', 'peter'), (3, 'Amy', 'amy'), (4, 'Michael', 'michael'), (5, 'Hennah', 'hennah')]\n",
      "[(1, 'Hafeez', 'hafeez'), (2, 'Peter', 'peter'), (3, 'Amy', 'amy'), (4, 'Michael', 'michael'), (5, 'Hennah', 'hennah')]\n"
     ]
    }
   ],
   "source": [
    "cursor = db.cursor()\n",
    "\n",
    "## defining the Query\n",
    "query = \"SELECT * FROM users\"\n",
    "\n",
    "## getting records from the table\n",
    "cursor.execute(query)\n",
    "\n",
    "## fetching all records from the 'cursor' object\n",
    "records = cursor.fetchall()\n",
    "\n",
    "## Showing the data\n",
    "for record in records:\n",
    "    print(records)"
   ]
  },
  {
   "cell_type": "code",
   "execution_count": 33,
   "metadata": {},
   "outputs": [
    {
     "name": "stdout",
     "output_type": "stream",
     "text": [
      "('hafeez',)\n",
      "('peter',)\n",
      "('amy',)\n",
      "('michael',)\n",
      "('hennah',)\n"
     ]
    }
   ],
   "source": [
    "cursor = db.cursor()\n",
    "## defining the Query\n",
    "query = \"SELECT user_name FROM users\"\n",
    "## getting 'user_name' column from the table\n",
    "cursor.execute(query)\n",
    "\n",
    "## fetching all usernames from the 'cursor' object\n",
    "usernames = cursor.fetchall()\n",
    "## Showing the data\n",
    "for username in usernames:\n",
    "    print(username)"
   ]
  },
  {
   "cell_type": "code",
   "execution_count": 34,
   "metadata": {},
   "outputs": [
    {
     "name": "stdout",
     "output_type": "stream",
     "text": [
      "('Hafeez', 'hafeez')\n",
      "('Peter', 'peter')\n",
      "('Amy', 'amy')\n",
      "('Michael', 'michael')\n",
      "('Hennah', 'hennah')\n"
     ]
    }
   ],
   "source": [
    "cursor = db.cursor()\n",
    "## defining the Query\n",
    "query = \"SELECT name, user_name FROM users\"\n",
    "\n",
    "## getting 'name', 'user_name' columns from the table\n",
    "cursor.execute(query)\n",
    "\n",
    "## fetching all records from the 'cursor' object\n",
    "data = cursor.fetchall()\n",
    "## Showing the data\n",
    "for pair in data:\n",
    "    print(pair)"
   ]
  },
  {
   "cell_type": "markdown",
   "metadata": {},
   "source": [
    "#whERE"
   ]
  },
  {
   "cell_type": "code",
   "execution_count": 35,
   "metadata": {},
   "outputs": [
    {
     "name": "stdout",
     "output_type": "stream",
     "text": [
      "(5, 'Hennah', 'hennah')\n"
     ]
    }
   ],
   "source": [
    "Cursor = db.cursor()\n",
    "## defining the Query\n",
    "query = \"SELECT * FROM users WHERE id = 5\"\n",
    "\n",
    "## getting records from the table\n",
    "cursor.execute(query)\n",
    "\n",
    "## fetching all records from the 'cursor' object\n",
    "records = cursor.fetchall()\n",
    "\n",
    "## Showing the data\n",
    "for record in records:\n",
    "    print(record)"
   ]
  },
  {
   "cell_type": "markdown",
   "metadata": {},
   "source": [
    "#Order by Ascending "
   ]
  },
  {
   "cell_type": "code",
   "execution_count": null,
   "metadata": {},
   "outputs": [],
   "source": []
  }
 ],
 "metadata": {
  "kernelspec": {
   "display_name": "Python 3",
   "language": "python",
   "name": "python3"
  },
  "language_info": {
   "codemirror_mode": {
    "name": "ipython",
    "version": 3
   },
   "file_extension": ".py",
   "mimetype": "text/x-python",
   "name": "python",
   "nbconvert_exporter": "python",
   "pygments_lexer": "ipython3",
   "version": "3.8.5"
  }
 },
 "nbformat": 4,
 "nbformat_minor": 4
}
